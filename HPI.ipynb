{
  "nbformat": 4,
  "nbformat_minor": 0,
  "metadata": {
    "colab": {
      "name": "mixbag.ipynb",
      "provenance": [],
      "mount_file_id": "1h0-Hypu0AntwTzJgUU1aW4y0SWIsinUC",
      "authorship_tag": "ABX9TyOwT3pr1Lne0McUGlo7LkUY",
      "include_colab_link": true
    },
    "kernelspec": {
      "name": "python3",
      "display_name": "Python 3"
    },
    "language_info": {
      "name": "python"
    }
  },
  "cells": [
    {
      "cell_type": "markdown",
      "metadata": {
        "id": "view-in-github",
        "colab_type": "text"
      },
      "source": [
        "<a href=\"https://colab.research.google.com/github/noobcoder2/demo-repo/blob/main/HPI.ipynb\" target=\"_parent\"><img src=\"https://colab.research.google.com/assets/colab-badge.svg\" alt=\"Open In Colab\"/></a>"
      ]
    },
    {
      "cell_type": "code",
      "source": [
        "import pandas as pd\n",
        "import numpy as np\n",
        "import seaborn as sns\n",
        "import matplotlib.pyplot as plt\n",
        "%matplotlib inline"
      ],
      "metadata": {
        "id": "82o_BC4-XPOz"
      },
      "execution_count": null,
      "outputs": []
    },
    {
      "cell_type": "code",
      "execution_count": 12,
      "metadata": {
        "id": "xkPuoTAhVnNM"
      },
      "outputs": [],
      "source": [
        "CS_hs = pd.read_csv('CS_hs.csv');\n",
        "CS_m_all = pd.read_csv('CS_m_all.csv')\n",
        "CS_mor = pd.read_csv('CS_mor.csv')\n",
        "CS_pr = pd.read_csv('CS_pr.csv')\n",
        "CS_q_all = pd.read_csv('CS_q_all.csv')\n",
        "CS_wa = pd.read_csv('CS_wa.csv')\n",
        "FH_hs = pd.read_csv('FH_hs.csv')\n",
        "FH_m_all = pd.read_csv('FH_m_all.csv')\n",
        "FH_mor = pd.read_csv('FH_mor.csv')\n",
        "FH_pr = pd.read_csv('FH_pr.csv')\n",
        "FH_q_all = pd.read_csv('FH_q_all.csv')\n",
        "FH_wa = pd.read_csv('FH_wa.csv')\n",
        "ZI_m_all = pd.read_csv('Zi_m_all.csv')\n",
        "ZI_mor = pd.read_csv('Zi_mor.csv')\n",
        "ZI_pr = pd.read_csv('Zi_prfi.csv')\n",
        "ZI_q_all = pd.read_csv('Zi_q_all.csv')\n",
        "ZI_wa = pd.read_csv('Zi_Wa.csv')"
      ]
    }
  ]
}