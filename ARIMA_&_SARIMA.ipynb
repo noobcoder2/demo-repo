{
  "nbformat": 4,
  "nbformat_minor": 0,
  "metadata": {
    "colab": {
      "name": "ARIMA & SARIMA.ipynb",
      "provenance": [],
      "mount_file_id": "1h0-Hypu0AntwTzJgUU1aW4y0SWIsinUC",
      "authorship_tag": "ABX9TyMTf7bGAILd6nKrxNRhZPIC",
      "include_colab_link": true
    },
    "kernelspec": {
      "name": "python3",
      "display_name": "Python 3"
    },
    "language_info": {
      "name": "python"
    }
  },
  "cells": [
    {
      "cell_type": "markdown",
      "metadata": {
        "id": "view-in-github",
        "colab_type": "text"
      },
      "source": [
        "<a href=\"https://colab.research.google.com/github/noobcoder2/demo-repo/blob/main/ARIMA_%26_SARIMA.ipynb\" target=\"_parent\"><img src=\"https://colab.research.google.com/assets/colab-badge.svg\" alt=\"Open In Colab\"/></a>"
      ]
    },
    {
      "cell_type": "markdown",
      "source": [
        "\n",
        "ARIMA and Seasonal ARIMA\n",
        "Autoregressive Integrated Moving Averages\n",
        "The general process for ARIMA models is the following:\n",
        "\n",
        "Visualize the Time Series Data\n",
        "Make the time series data stationary\n",
        "Plot the Correlation and AutoCorrelation Charts\n",
        "Construct the ARIMA Model or Seasonal ARIMA based on the data\n",
        "Use the model to make predictions\n",
        "\n",
        "\n"
      ],
      "metadata": {
        "id": "CjJ4wkcghkSx"
      }
    },
    {
      "cell_type": "code",
      "source": [
        "import pandas as pd\n",
        "import numpy as np\n",
        "import seaborn as sns\n",
        "import matplotlib.pyplot as plt\n",
        "%matplotlib inline"
      ],
      "metadata": {
        "id": "82o_BC4-XPOz"
      },
      "execution_count": null,
      "outputs": []
    },
    {
      "cell_type": "code",
      "execution_count": 12,
      "metadata": {
        "id": "xkPuoTAhVnNM"
      },
      "outputs": [],
      "source": [
        "CS_hs = pd.read_csv('CS_hs.csv');\n",
        "CS_m_all = pd.read_csv('CS_m_all.csv')\n",
        "CS_mor = pd.read_csv('CS_mor.csv')\n",
        "CS_pr = pd.read_csv('CS_pr.csv')\n",
        "CS_q_all = pd.read_csv('CS_q_all.csv')\n",
        "CS_wa = pd.read_csv('CS_wa.csv')\n",
        "FH_hs = pd.read_csv('FH_hs.csv')\n",
        "FH_m_all = pd.read_csv('FH_m_all.csv')\n",
        "FH_mor = pd.read_csv('FH_mor.csv')\n",
        "FH_pr = pd.read_csv('FH_pr.csv')\n",
        "FH_q_all = pd.read_csv('FH_q_all.csv')\n",
        "FH_wa = pd.read_csv('FH_wa.csv')\n",
        "ZI_m_all = pd.read_csv('Zi_m_all.csv')\n",
        "ZI_mor = pd.read_csv('Zi_mor.csv')\n",
        "ZI_pr = pd.read_csv('Zi_prfi.csv')\n",
        "ZI_q_all = pd.read_csv('Zi_q_all.csv')\n",
        "ZI_wa = pd.read_csv('Zi_Wa.csv')"
      ]
    },
    {
      "cell_type": "code",
      "source": [
        "Zi_hs = pd.read_csv('Zi_hs.csv')"
      ],
      "metadata": {
        "id": "SzAUMvQXmTM_"
      },
      "execution_count": 18,
      "outputs": []
    },
    {
      "cell_type": "code",
      "source": [
        "# Convert Month into Datetime\n",
        "CS_hs['Date']=pd.to_datetime(CS_hs['Date'])\n",
        "CS_mor['Date']=pd.to_datetime(CS_mor['Date'])\n",
        "CS_pr['Date']=pd.to_datetime(CS_pr['Date'])\n",
        "CS_wa['Date']=pd.to_datetime(CS_wa['Date'])\n",
        "CS_q_all['Date']=pd.to_datetime(CS_q_all['Date'])\n",
        "CS_m_all['Date']=pd.to_datetime(CS_m_all['Date'])\n"
      ],
      "metadata": {
        "id": "NMrrkyvnidMA"
      },
      "execution_count": 13,
      "outputs": []
    },
    {
      "cell_type": "code",
      "source": [
        "FH_hs['Date']=pd.to_datetime(FH_hs['Date'])\n",
        "FH_mor['Date']=pd.to_datetime(FH_mor['Date'])\n",
        "FH_pr['Date']=pd.to_datetime(FH_pr['Date'])\n",
        "FH_wa['Date']=pd.to_datetime(FH_wa['Date'])\n",
        "FH_q_all['Date']=pd.to_datetime(FH_q_all['Date'])\n",
        "FH_m_all['Date']=pd.to_datetime(FH_m_all['Date'])"
      ],
      "metadata": {
        "id": "_eO1HxE0jPne"
      },
      "execution_count": 14,
      "outputs": []
    },
    {
      "cell_type": "code",
      "source": [
        "ZI_hs['Date']=pd.to_datetime(ZI_hs['Date'])\n",
        "ZI_mor['Date']=pd.to_datetime(ZI_mor['Date'])\n",
        "ZI_pr['Date']=pd.to_datetime(ZI_pr['Date'])\n",
        "ZI_wa['Date']=pd.to_datetime(ZI_wa['Date'])\n",
        "ZI_q_all['Date']=pd.to_datetime(ZI_q_all['Date'])\n",
        "ZI_m_all['Date']=pd.to_datetime(ZI_m_all['Date'])"
      ],
      "metadata": {
        "id": "Kl6Lb_RUje0O"
      },
      "execution_count": 20,
      "outputs": []
    },
    {
      "cell_type": "code",
      "source": [
        "df.set_index('Month',inplace=True)"
      ],
      "metadata": {
        "id": "9fnag4Osipmc"
      },
      "execution_count": null,
      "outputs": []
    },
    {
      "cell_type": "code",
      "source": [
        "df.describe()"
      ],
      "metadata": {
        "id": "5RMvQw9vipu0"
      },
      "execution_count": null,
      "outputs": []
    },
    {
      "cell_type": "markdown",
      "source": [
        "ARIMA TESTING"
      ],
      "metadata": {
        "id": "y30Ph_rBmpxn"
      }
    },
    {
      "cell_type": "code",
      "source": [
        ""
      ],
      "metadata": {
        "id": "S9FanlKDmtXi"
      },
      "execution_count": null,
      "outputs": []
    }
  ]
}